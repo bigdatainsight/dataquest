{
 "cells": [
  {
   "cell_type": "markdown",
   "metadata": {},
   "source": [
    "# 1. Shared Indexes\n",
    "Pandas dataframe share a row index across columns. By default, this is an integer index. Pandas enforces this shared row index by throwing an error if we read in a CSV file with columns that contain a different number of elements."
   ]
  },
  {
   "cell_type": "code",
   "execution_count": 2,
   "metadata": {
    "collapsed": false
   },
   "outputs": [
    {
     "name": "stdout",
     "output_type": "stream",
     "text": [
      "   Unnamed: 0                            FILM  RottenTomatoes  \\\n",
      "0         NaN  Avengers: Age of Ultron (2015)              74   \n",
      "1         NaN               Cinderella (2015)              85   \n",
      "\n",
      "   RottenTomatoes_User  Metacritic  Metacritic_User  IMDB  Fandango_Stars  \\\n",
      "0                   86          66              7.1   7.8             5.0   \n",
      "1                   80          67              7.5   7.1             5.0   \n",
      "\n",
      "   Fandango_Ratingvalue  RT_norm         ...           IMDB_norm  \\\n",
      "0                   4.5     3.70         ...                3.90   \n",
      "1                   4.5     4.25         ...                3.55   \n",
      "\n",
      "   RT_norm_round  RT_user_norm_round  Metacritic_norm_round  \\\n",
      "0            3.5                 4.5                    3.5   \n",
      "1            4.5                 4.0                    3.5   \n",
      "\n",
      "   Metacritic_user_norm_round  IMDB_norm_round  Metacritic_user_vote_count  \\\n",
      "0                         3.5              4.0                        1330   \n",
      "1                         4.0              3.5                         249   \n",
      "\n",
      "   IMDB_user_vote_count  Fandango_votes  Fandango_Difference  \n",
      "0                271107           14846                  0.5  \n",
      "1                 65709           12640                  0.5  \n",
      "\n",
      "[2 rows x 23 columns]\n",
      "RangeIndex(start=0, stop=146, step=1)\n",
      "0\n"
     ]
    }
   ],
   "source": [
    "import pandas as pd\n",
    "\n",
    "fandango = pd.read_csv(\"fandango_score_comparison2.csv\")\n",
    "print(fandango.head(2))\n",
    "print(fandango.index)\n",
    "print(fandango.index.values[0])"
   ]
  },
  {
   "cell_type": "markdown",
   "metadata": {},
   "source": [
    "# 2: Using Integer Indexes To Select Rows"
   ]
  },
  {
   "cell_type": "code",
   "execution_count": null,
   "metadata": {
    "collapsed": true
   },
   "outputs": [],
   "source": [
    "# First five rows\n",
    "fandango[0:5]\n",
    "# From row at 140 and higher\n",
    "fandango[140:]"
   ]
  },
  {
   "cell_type": "markdown",
   "metadata": {},
   "source": [
    "To select an individual row, however, we'll need to use the iloc[] method. This method accepts the following objects for selection:\n",
    "\n",
    "* An integer\n",
    "* A list of integers\n",
    "* A slice object\n",
    "* A Boolean array"
   ]
  },
  {
   "cell_type": "code",
   "execution_count": null,
   "metadata": {
    "collapsed": true
   },
   "outputs": [],
   "source": [
    "# Just row at index 50\n",
    "fandango.iloc[50]\n",
    "# Just row at index 45 and 90\n",
    "fandango.iloc[[45,90]]\n",
    "\n",
    "first_last = fandango.iloc[[0,len(fandango)-1]]"
   ]
  },
  {
   "cell_type": "markdown",
   "metadata": {},
   "source": [
    "# 3. Using custom indexes"
   ]
  },
  {
   "cell_type": "code",
   "execution_count": 7,
   "metadata": {
    "collapsed": false
   },
   "outputs": [
    {
     "name": "stdout",
     "output_type": "stream",
     "text": [
      "                                Unnamed: 0                            FILM  \\\n",
      "FILM                                                                         \n",
      "Avengers: Age of Ultron (2015)         NaN  Avengers: Age of Ultron (2015)   \n",
      "Cinderella (2015)                      NaN               Cinderella (2015)   \n",
      "Ant-Man (2015)                         NaN                  Ant-Man (2015)   \n",
      "Do You Believe? (2015)                 NaN          Do You Believe? (2015)   \n",
      "Hot Tub Time Machine 2 (2015)          NaN   Hot Tub Time Machine 2 (2015)   \n",
      "The Water Diviner (2015)               NaN        The Water Diviner (2015)   \n",
      "Irrational Man (2015)                  NaN           Irrational Man (2015)   \n",
      "Top Five (2014)                        NaN                 Top Five (2014)   \n",
      "Shaun the Sheep Movie (2015)           NaN    Shaun the Sheep Movie (2015)   \n",
      "Love & Mercy (2015)                    NaN             Love & Mercy (2015)   \n",
      "\n",
      "                                RottenTomatoes  RottenTomatoes_User  \\\n",
      "FILM                                                                  \n",
      "Avengers: Age of Ultron (2015)              74                   86   \n",
      "Cinderella (2015)                           85                   80   \n",
      "Ant-Man (2015)                              80                   90   \n",
      "Do You Believe? (2015)                      18                   84   \n",
      "Hot Tub Time Machine 2 (2015)               14                   28   \n",
      "The Water Diviner (2015)                    63                   62   \n",
      "Irrational Man (2015)                       42                   53   \n",
      "Top Five (2014)                             86                   64   \n",
      "Shaun the Sheep Movie (2015)                99                   82   \n",
      "Love & Mercy (2015)                         89                   87   \n",
      "\n",
      "                                Metacritic  Metacritic_User  IMDB  \\\n",
      "FILM                                                                \n",
      "Avengers: Age of Ultron (2015)          66              7.1   7.8   \n",
      "Cinderella (2015)                       67              7.5   7.1   \n",
      "Ant-Man (2015)                          64              8.1   7.8   \n",
      "Do You Believe? (2015)                  22              4.7   5.4   \n",
      "Hot Tub Time Machine 2 (2015)           29              3.4   5.1   \n",
      "The Water Diviner (2015)                50              6.8   7.2   \n",
      "Irrational Man (2015)                   53              7.6   6.9   \n",
      "Top Five (2014)                         81              6.8   6.5   \n",
      "Shaun the Sheep Movie (2015)            81              8.8   7.4   \n",
      "Love & Mercy (2015)                     80              8.5   7.8   \n",
      "\n",
      "                                Fandango_Stars  Fandango_Ratingvalue  RT_norm  \\\n",
      "FILM                                                                            \n",
      "Avengers: Age of Ultron (2015)             5.0                   4.5     3.70   \n",
      "Cinderella (2015)                          5.0                   4.5     4.25   \n",
      "Ant-Man (2015)                             5.0                   4.5     4.00   \n",
      "Do You Believe? (2015)                     5.0                   4.5     0.90   \n",
      "Hot Tub Time Machine 2 (2015)              3.5                   3.0     0.70   \n",
      "The Water Diviner (2015)                   4.5                   4.0     3.15   \n",
      "Irrational Man (2015)                      4.0                   3.5     2.10   \n",
      "Top Five (2014)                            4.0                   3.5     4.30   \n",
      "Shaun the Sheep Movie (2015)               4.5                   4.0     4.95   \n",
      "Love & Mercy (2015)                        4.5                   4.0     4.45   \n",
      "\n",
      "                                       ...           IMDB_norm  RT_norm_round  \\\n",
      "FILM                                   ...                                      \n",
      "Avengers: Age of Ultron (2015)         ...                3.90            3.5   \n",
      "Cinderella (2015)                      ...                3.55            4.5   \n",
      "Ant-Man (2015)                         ...                3.90            4.0   \n",
      "Do You Believe? (2015)                 ...                2.70            1.0   \n",
      "Hot Tub Time Machine 2 (2015)          ...                2.55            0.5   \n",
      "The Water Diviner (2015)               ...                3.60            3.0   \n",
      "Irrational Man (2015)                  ...                3.45            2.0   \n",
      "Top Five (2014)                        ...                3.25            4.5   \n",
      "Shaun the Sheep Movie (2015)           ...                3.70            5.0   \n",
      "Love & Mercy (2015)                    ...                3.90            4.5   \n",
      "\n",
      "                                RT_user_norm_round  Metacritic_norm_round  \\\n",
      "FILM                                                                        \n",
      "Avengers: Age of Ultron (2015)                 4.5                    3.5   \n",
      "Cinderella (2015)                              4.0                    3.5   \n",
      "Ant-Man (2015)                                 4.5                    3.0   \n",
      "Do You Believe? (2015)                         4.0                    1.0   \n",
      "Hot Tub Time Machine 2 (2015)                  1.5                    1.5   \n",
      "The Water Diviner (2015)                       3.0                    2.5   \n",
      "Irrational Man (2015)                          2.5                    2.5   \n",
      "Top Five (2014)                                3.0                    4.0   \n",
      "Shaun the Sheep Movie (2015)                   4.0                    4.0   \n",
      "Love & Mercy (2015)                            4.5                    4.0   \n",
      "\n",
      "                                Metacritic_user_norm_round  IMDB_norm_round  \\\n",
      "FILM                                                                          \n",
      "Avengers: Age of Ultron (2015)                         3.5              4.0   \n",
      "Cinderella (2015)                                      4.0              3.5   \n",
      "Ant-Man (2015)                                         4.0              4.0   \n",
      "Do You Believe? (2015)                                 2.5              2.5   \n",
      "Hot Tub Time Machine 2 (2015)                          1.5              2.5   \n",
      "The Water Diviner (2015)                               3.5              3.5   \n",
      "Irrational Man (2015)                                  4.0              3.5   \n",
      "Top Five (2014)                                        3.5              3.5   \n",
      "Shaun the Sheep Movie (2015)                           4.5              3.5   \n",
      "Love & Mercy (2015)                                    4.5              4.0   \n",
      "\n",
      "                                Metacritic_user_vote_count  \\\n",
      "FILM                                                         \n",
      "Avengers: Age of Ultron (2015)                        1330   \n",
      "Cinderella (2015)                                      249   \n",
      "Ant-Man (2015)                                         627   \n",
      "Do You Believe? (2015)                                  31   \n",
      "Hot Tub Time Machine 2 (2015)                           88   \n",
      "The Water Diviner (2015)                                34   \n",
      "Irrational Man (2015)                                   17   \n",
      "Top Five (2014)                                        124   \n",
      "Shaun the Sheep Movie (2015)                            62   \n",
      "Love & Mercy (2015)                                     54   \n",
      "\n",
      "                                IMDB_user_vote_count  Fandango_votes  \\\n",
      "FILM                                                                   \n",
      "Avengers: Age of Ultron (2015)                271107           14846   \n",
      "Cinderella (2015)                              65709           12640   \n",
      "Ant-Man (2015)                                103660           12055   \n",
      "Do You Believe? (2015)                          3136            1793   \n",
      "Hot Tub Time Machine 2 (2015)                  19560            1021   \n",
      "The Water Diviner (2015)                       39373             397   \n",
      "Irrational Man (2015)                           2680             252   \n",
      "Top Five (2014)                                16876            3223   \n",
      "Shaun the Sheep Movie (2015)                   12227             896   \n",
      "Love & Mercy (2015)                             5367             864   \n",
      "\n",
      "                                Fandango_Difference  \n",
      "FILM                                                 \n",
      "Avengers: Age of Ultron (2015)                  0.5  \n",
      "Cinderella (2015)                               0.5  \n",
      "Ant-Man (2015)                                  0.5  \n",
      "Do You Believe? (2015)                          0.5  \n",
      "Hot Tub Time Machine 2 (2015)                   0.5  \n",
      "The Water Diviner (2015)                        0.5  \n",
      "Irrational Man (2015)                           0.5  \n",
      "Top Five (2014)                                 0.5  \n",
      "Shaun the Sheep Movie (2015)                    0.5  \n",
      "Love & Mercy (2015)                             0.5  \n",
      "\n",
      "[10 rows x 23 columns]\n"
     ]
    }
   ],
   "source": [
    "# use column \"FILM\" as index\n",
    "fandango_films = fandango.set_index(keys=\"FILM\", drop=False)\n",
    "print(fandango_films[0:10])"
   ]
  },
  {
   "cell_type": "markdown",
   "metadata": {},
   "source": [
    "# 4: Using A Custom Index For Selection"
   ]
  },
  {
   "cell_type": "code",
   "execution_count": 9,
   "metadata": {
    "collapsed": false
   },
   "outputs": [
    {
     "name": "stdout",
     "output_type": "stream",
     "text": [
      "                                           Unnamed: 0  \\\n",
      "FILM                                                    \n",
      "The Lazarus Effect (2015)                         NaN   \n",
      "Gett: The Trial of Viviane Amsalem (2015)         NaN   \n",
      "Mr. Holmes (2015)                                 NaN   \n",
      "\n",
      "                                                                                FILM  \\\n",
      "FILM                                                                                   \n",
      "The Lazarus Effect (2015)                                  The Lazarus Effect (2015)   \n",
      "Gett: The Trial of Viviane Amsalem (2015)  Gett: The Trial of Viviane Amsalem (2015)   \n",
      "Mr. Holmes (2015)                                                  Mr. Holmes (2015)   \n",
      "\n",
      "                                           RottenTomatoes  \\\n",
      "FILM                                                        \n",
      "The Lazarus Effect (2015)                              14   \n",
      "Gett: The Trial of Viviane Amsalem (2015)             100   \n",
      "Mr. Holmes (2015)                                      87   \n",
      "\n",
      "                                           RottenTomatoes_User  Metacritic  \\\n",
      "FILM                                                                         \n",
      "The Lazarus Effect (2015)                                   23          31   \n",
      "Gett: The Trial of Viviane Amsalem (2015)                   81          90   \n",
      "Mr. Holmes (2015)                                           78          67   \n",
      "\n",
      "                                           Metacritic_User  IMDB  \\\n",
      "FILM                                                               \n",
      "The Lazarus Effect (2015)                              4.9   5.2   \n",
      "Gett: The Trial of Viviane Amsalem (2015)              7.3   7.8   \n",
      "Mr. Holmes (2015)                                      7.9   7.4   \n",
      "\n",
      "                                           Fandango_Stars  \\\n",
      "FILM                                                        \n",
      "The Lazarus Effect (2015)                             3.0   \n",
      "Gett: The Trial of Viviane Amsalem (2015)             3.5   \n",
      "Mr. Holmes (2015)                                     4.0   \n",
      "\n",
      "                                           Fandango_Ratingvalue  RT_norm  \\\n",
      "FILM                                                                       \n",
      "The Lazarus Effect (2015)                                   3.0     0.70   \n",
      "Gett: The Trial of Viviane Amsalem (2015)                   3.5     5.00   \n",
      "Mr. Holmes (2015)                                           4.0     4.35   \n",
      "\n",
      "                                                  ...           IMDB_norm  \\\n",
      "FILM                                              ...                       \n",
      "The Lazarus Effect (2015)                         ...                 2.6   \n",
      "Gett: The Trial of Viviane Amsalem (2015)         ...                 3.9   \n",
      "Mr. Holmes (2015)                                 ...                 3.7   \n",
      "\n",
      "                                           RT_norm_round  RT_user_norm_round  \\\n",
      "FILM                                                                           \n",
      "The Lazarus Effect (2015)                            0.5                 1.0   \n",
      "Gett: The Trial of Viviane Amsalem (2015)            5.0                 4.0   \n",
      "Mr. Holmes (2015)                                    4.5                 4.0   \n",
      "\n",
      "                                           Metacritic_norm_round  \\\n",
      "FILM                                                               \n",
      "The Lazarus Effect (2015)                                    1.5   \n",
      "Gett: The Trial of Viviane Amsalem (2015)                    4.5   \n",
      "Mr. Holmes (2015)                                            3.5   \n",
      "\n",
      "                                           Metacritic_user_norm_round  \\\n",
      "FILM                                                                    \n",
      "The Lazarus Effect (2015)                                         2.5   \n",
      "Gett: The Trial of Viviane Amsalem (2015)                         3.5   \n",
      "Mr. Holmes (2015)                                                 4.0   \n",
      "\n",
      "                                           IMDB_norm_round  \\\n",
      "FILM                                                         \n",
      "The Lazarus Effect (2015)                              2.5   \n",
      "Gett: The Trial of Viviane Amsalem (2015)              4.0   \n",
      "Mr. Holmes (2015)                                      3.5   \n",
      "\n",
      "                                           Metacritic_user_vote_count  \\\n",
      "FILM                                                                    \n",
      "The Lazarus Effect (2015)                                          62   \n",
      "Gett: The Trial of Viviane Amsalem (2015)                          19   \n",
      "Mr. Holmes (2015)                                                  33   \n",
      "\n",
      "                                           IMDB_user_vote_count  \\\n",
      "FILM                                                              \n",
      "The Lazarus Effect (2015)                                 17691   \n",
      "Gett: The Trial of Viviane Amsalem (2015)                  1955   \n",
      "Mr. Holmes (2015)                                          7367   \n",
      "\n",
      "                                           Fandango_votes  Fandango_Difference  \n",
      "FILM                                                                            \n",
      "The Lazarus Effect (2015)                            1651                  0.0  \n",
      "Gett: The Trial of Viviane Amsalem (2015)              59                  0.0  \n",
      "Mr. Holmes (2015)                                    1348                  0.0  \n",
      "\n",
      "[3 rows x 23 columns]\n"
     ]
    }
   ],
   "source": [
    "# Slice using either bracket notation or loc[]\n",
    "fandango_films[\"Avengers: Age of Ultron (2015)\":\"Hot Tub Time Machine 2 (2015)\"]\n",
    "fandango_films.loc[\"Avengers: Age of Ultron (2015)\":\"Hot Tub Time Machine 2 (2015)\"]\n",
    "\n",
    "# Specific movie\n",
    "fandango_films.loc['Kumiko, The Treasure Hunter (2015)']\n",
    "\n",
    "# Selecting list of movies\n",
    "movies = ['Kumiko, The Treasure Hunter (2015)', 'Do You Believe? (2015)', 'Ant-Man (2015)']\n",
    "fandango_films.loc[movies]\n",
    "\n",
    "movie_list = [\"The Lazarus Effect (2015)\", \"Gett: The Trial of Viviane Amsalem (2015)\", \"Mr. Holmes (2015)\"]\n",
    "best_movies_ever = fandango_films.loc[movie_list]\n",
    "print(best_movies_ever)"
   ]
  },
  {
   "cell_type": "markdown",
   "metadata": {},
   "source": [
    "# 5: Apply() Logic Over The Columns In A Dataframe"
   ]
  },
  {
   "cell_type": "code",
   "execution_count": 10,
   "metadata": {
    "collapsed": false
   },
   "outputs": [
    {
     "name": "stdout",
     "output_type": "stream",
     "text": [
      "Unnamed: 0                         NaN\n",
      "Metacritic_User               1.505529\n",
      "IMDB                          0.955447\n",
      "Fandango_Stars                0.538532\n",
      "Fandango_Ratingvalue          0.501106\n",
      "RT_norm                       1.503265\n",
      "RT_user_norm                  0.997787\n",
      "Metacritic_norm               0.972522\n",
      "Metacritic_user_nom           0.752765\n",
      "IMDB_norm                     0.477723\n",
      "RT_norm_round                 1.509404\n",
      "RT_user_norm_round            1.003559\n",
      "Metacritic_norm_round         0.987561\n",
      "Metacritic_user_norm_round    0.785412\n",
      "IMDB_norm_round               0.501043\n",
      "Fandango_Difference           0.152141\n",
      "dtype: float64\n"
     ]
    }
   ],
   "source": [
    "import numpy as np\n",
    "\n",
    "# returns the data types as a Series\n",
    "types = fandango_films.dtypes\n",
    "\n",
    "# filter data types to just floats, index attributes returns just column names\n",
    "float_columns = types[types.values == 'float64'].index\n",
    "\n",
    "# use bracket notation to filter columns to just float columns\n",
    "float_df = fandango_films[float_columns]\n",
    "\n",
    "# `x` is a Series object representing a column\n",
    "deviations = float_df.apply(lambda x: np.std(x))\n",
    "\n",
    "print(deviations)"
   ]
  },
  {
   "cell_type": "markdown",
   "metadata": {},
   "source": [
    "# 6: Apply() Logic Over Columns: Practice"
   ]
  },
  {
   "cell_type": "code",
   "execution_count": 11,
   "metadata": {
    "collapsed": false
   },
   "outputs": [
    {
     "name": "stdout",
     "output_type": "stream",
     "text": [
      "                                Unnamed: 0  Metacritic_User  IMDB  \\\n",
      "FILM                                                                \n",
      "Avengers: Age of Ultron (2015)         NaN             14.2  15.6   \n",
      "\n",
      "                                Fandango_Stars  Fandango_Ratingvalue  RT_norm  \\\n",
      "FILM                                                                            \n",
      "Avengers: Age of Ultron (2015)            10.0                   9.0      7.4   \n",
      "\n",
      "                                RT_user_norm  Metacritic_norm  \\\n",
      "FILM                                                            \n",
      "Avengers: Age of Ultron (2015)           8.6              6.6   \n",
      "\n",
      "                                Metacritic_user_nom  IMDB_norm  RT_norm_round  \\\n",
      "FILM                                                                            \n",
      "Avengers: Age of Ultron (2015)                  7.1        7.8            7.0   \n",
      "\n",
      "                                RT_user_norm_round  Metacritic_norm_round  \\\n",
      "FILM                                                                        \n",
      "Avengers: Age of Ultron (2015)                 9.0                    7.0   \n",
      "\n",
      "                                Metacritic_user_norm_round  IMDB_norm_round  \\\n",
      "FILM                                                                          \n",
      "Avengers: Age of Ultron (2015)                         7.0              8.0   \n",
      "\n",
      "                                Fandango_Difference  \n",
      "FILM                                                 \n",
      "Avengers: Age of Ultron (2015)                  1.0  \n",
      "                                Unnamed: 0  Metacritic_User  IMDB  \\\n",
      "FILM                                                                \n",
      "Avengers: Age of Ultron (2015)         NaN             3.55   3.9   \n",
      "\n",
      "                                Fandango_Stars  Fandango_Ratingvalue  RT_norm  \\\n",
      "FILM                                                                            \n",
      "Avengers: Age of Ultron (2015)             2.5                  2.25     1.85   \n",
      "\n",
      "                                RT_user_norm  Metacritic_norm  \\\n",
      "FILM                                                            \n",
      "Avengers: Age of Ultron (2015)          2.15             1.65   \n",
      "\n",
      "                                Metacritic_user_nom  IMDB_norm  RT_norm_round  \\\n",
      "FILM                                                                            \n",
      "Avengers: Age of Ultron (2015)                1.775       1.95           1.75   \n",
      "\n",
      "                                RT_user_norm_round  Metacritic_norm_round  \\\n",
      "FILM                                                                        \n",
      "Avengers: Age of Ultron (2015)                2.25                   1.75   \n",
      "\n",
      "                                Metacritic_user_norm_round  IMDB_norm_round  \\\n",
      "FILM                                                                          \n",
      "Avengers: Age of Ultron (2015)                        1.75              2.0   \n",
      "\n",
      "                                Fandango_Difference  \n",
      "FILM                                                 \n",
      "Avengers: Age of Ultron (2015)                 0.25  \n"
     ]
    }
   ],
   "source": [
    "double_df = float_df.apply(lambda x: x*2)\n",
    "print(double_df.head(1))\n",
    "\n",
    "halved_df = float_df.apply(lambda x: x/2)\n",
    "print(halved_df.head(1))"
   ]
  },
  {
   "cell_type": "markdown",
   "metadata": {},
   "source": [
    "# 7: Apply() Over Dataframe Rows"
   ]
  },
  {
   "cell_type": "code",
   "execution_count": 12,
   "metadata": {
    "collapsed": false
   },
   "outputs": [
    {
     "name": "stdout",
     "output_type": "stream",
     "text": [
      "FILM\n",
      "Avengers: Age of Ultron (2015)    0.375\n",
      "Cinderella (2015)                 0.125\n",
      "Ant-Man (2015)                    0.225\n",
      "Do You Believe? (2015)            0.925\n",
      "Hot Tub Time Machine 2 (2015)     0.150\n",
      "dtype: float64\n",
      "FILM\n",
      "Avengers: Age of Ultron (2015)    3.925\n",
      "Cinderella (2015)                 3.875\n",
      "Ant-Man (2015)                    4.275\n",
      "Do You Believe? (2015)            3.275\n",
      "Hot Tub Time Machine 2 (2015)     1.550\n",
      "dtype: float64\n"
     ]
    }
   ],
   "source": [
    "rt_mt_user = float_df[['RT_user_norm', 'Metacritic_user_nom']]\n",
    "rt_mt_deviations = rt_mt_user.apply(lambda x: np.std(x), axis=1)\n",
    "print(rt_mt_deviations[0:5])\n",
    "\n",
    "rt_mt_means = rt_mt_user.apply(np.mean, axis=1)\n",
    "print(rt_mt_means.head())"
   ]
  }
 ],
 "metadata": {
  "anaconda-cloud": {},
  "kernelspec": {
   "display_name": "Python [default]",
   "language": "python",
   "name": "python3"
  },
  "language_info": {
   "codemirror_mode": {
    "name": "ipython",
    "version": 3
   },
   "file_extension": ".py",
   "mimetype": "text/x-python",
   "name": "python",
   "nbconvert_exporter": "python",
   "pygments_lexer": "ipython3",
   "version": "3.5.2"
  }
 },
 "nbformat": 4,
 "nbformat_minor": 1
}
