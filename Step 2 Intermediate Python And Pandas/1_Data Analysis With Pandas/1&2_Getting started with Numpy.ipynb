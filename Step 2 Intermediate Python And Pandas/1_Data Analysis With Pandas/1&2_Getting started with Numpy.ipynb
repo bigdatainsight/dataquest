{
 "cells": [
  {
   "cell_type": "code",
   "execution_count": 35,
   "metadata": {
    "collapsed": false
   },
   "outputs": [],
   "source": [
    "# Read a csv file into list of list\n",
    "import csv\n",
    "f = open(\"world_alcohol.csv\")\n",
    "reader = csv.reader(f)\n",
    "world_alcohol = list(reader)\n",
    "\n",
    "years = []\n",
    "for row in world_alcohol:\n",
    "    years.append(row[0])\n",
    "\n",
    "years = years[1:]\n",
    "\n",
    "total = 0\n",
    "for year in years:\n",
    "    total = total + float(year)\n",
    "\n",
    "avg_year = total / len(years)"
   ]
  },
  {
   "cell_type": "code",
   "execution_count": 45,
   "metadata": {
    "collapsed": false
   },
   "outputs": [
    {
     "name": "stdout",
     "output_type": "stream",
     "text": [
      "<class 'numpy.ndarray'>\n"
     ]
    }
   ],
   "source": [
    "import numpy\n",
    "\n",
    "# Use numpy to read csv file into array\n",
    "world_alcohol = numpy.genfromtxt(\"world_alcohol.csv\", delimiter=\",\")\n",
    "print(type(world_alcohol))"
   ]
  },
  {
   "cell_type": "code",
   "execution_count": 37,
   "metadata": {
    "collapsed": false
   },
   "outputs": [],
   "source": [
    "#Construct numpy array from list or list of lit\n",
    "vector = numpy.array([10, 20, 30])\n",
    "matrix = numpy.array([[5, 10, 15], [20, 25, 30], [35, 40, 45]])"
   ]
  },
  {
   "cell_type": "code",
   "execution_count": 38,
   "metadata": {
    "collapsed": false
   },
   "outputs": [
    {
     "name": "stdout",
     "output_type": "stream",
     "text": [
      "(3,)\n",
      "(3, 3)\n"
     ]
    }
   ],
   "source": [
    "#Dimensionality of array\n",
    "vector_shape = vector.shape\n",
    "matrix_shape = matrix.shape\n",
    "print(vector_shape)\n",
    "print(matrix_shape)"
   ]
  },
  {
   "cell_type": "code",
   "execution_count": 39,
   "metadata": {
    "collapsed": false
   },
   "outputs": [
    {
     "name": "stdout",
     "output_type": "stream",
     "text": [
      "int32\n",
      "int32\n"
     ]
    }
   ],
   "source": [
    "#Data type of array\n",
    "#Different from list, each value in a Numpy array has to have the same data type\n",
    "print(vector.dtype)\n",
    "print(matrix.dtype)"
   ]
  },
  {
   "cell_type": "code",
   "execution_count": 46,
   "metadata": {
    "collapsed": false
   },
   "outputs": [
    {
     "name": "stdout",
     "output_type": "stream",
     "text": [
      "[[             nan              nan              nan              nan\n",
      "               nan]\n",
      " [  1.98600000e+03              nan              nan              nan\n",
      "    0.00000000e+00]\n",
      " [  1.98600000e+03              nan              nan              nan\n",
      "    5.00000000e-01]\n",
      " ..., \n",
      " [  1.98900000e+03              nan              nan              nan\n",
      "    2.00000000e-01]\n",
      " [  1.98900000e+03              nan              nan              nan\n",
      "    1.32000000e+00]\n",
      " [  1.98400000e+03              nan              nan              nan\n",
      "    1.32000000e+00]]\n"
     ]
    }
   ],
   "source": [
    "print(world_alcohol)"
   ]
  },
  {
   "cell_type": "code",
   "execution_count": 47,
   "metadata": {
    "collapsed": false
   },
   "outputs": [
    {
     "name": "stdout",
     "output_type": "stream",
     "text": [
      "[['1986' 'Western Pacific' 'Viet Nam' 'Wine' '0']\n",
      " ['1986' 'Americas' 'Uruguay' 'Other' '0.5']\n",
      " ['1985' 'Africa' \"Cte d'Ivoire\" 'Wine' '1.62']\n",
      " ..., \n",
      " ['1989' 'Africa' 'Malawi' 'Spirits' '0.2']\n",
      " ['1989' 'Europe' 'Italy' 'Spirits' '1.32']\n",
      " ['1984' 'Europe' 'Belarus' 'Spirits' '1.32']]\n"
     ]
    }
   ],
   "source": [
    "world_alcohol = numpy.genfromtxt(\"world_alcohol.csv\", delimiter=\",\", dtype=\"U75\", skip_header=1)\n",
    "print(world_alcohol)"
   ]
  },
  {
   "cell_type": "code",
   "execution_count": 48,
   "metadata": {
    "collapsed": false
   },
   "outputs": [
    {
     "name": "stdout",
     "output_type": "stream",
     "text": [
      "['1986' 'Western Pacific' 'Viet Nam' 'Wine' '0']\n",
      "Western Pacific\n",
      "Western Pacific\n"
     ]
    }
   ],
   "source": [
    "# Indexing arrays\n",
    "\n",
    "#get the first row\n",
    "print(world_alcohol[0])\n",
    "\n",
    "#get the first row, second column\n",
    "print(world_alcohol[0][1])\n",
    "print(world_alcohol[0, 1])\n"
   ]
  },
  {
   "cell_type": "code",
   "execution_count": 50,
   "metadata": {
    "collapsed": false
   },
   "outputs": [
    {
     "name": "stdout",
     "output_type": "stream",
     "text": [
      "[['1986' 'Western Pacific' 'Viet Nam' 'Wine' '0']\n",
      " ['1986' 'Americas' 'Uruguay' 'Other' '0.5']\n",
      " ['1985' 'Africa' \"Cte d'Ivoire\" 'Wine' '1.62']]\n"
     ]
    }
   ],
   "source": [
    "# Slicing arrays\n",
    "\n",
    "# get the 1 - 3 rows\n",
    "print(world_alcohol[0:3])"
   ]
  },
  {
   "cell_type": "code",
   "execution_count": 51,
   "metadata": {
    "collapsed": false
   },
   "outputs": [
    {
     "name": "stdout",
     "output_type": "stream",
     "text": [
      "['Western Pacific' 'Americas' 'Africa' 'Americas' 'Americas' 'Americas'\n",
      " 'Africa' 'Africa' 'Americas' 'Africa' 'Africa' 'Americas'\n",
      " 'Western Pacific' 'Eastern Mediterranean' 'Western Pacific' 'Africa'\n",
      " 'Americas' 'Africa' 'Europe' 'Africa' 'South-East Asia' 'Americas'\n",
      " 'Europe' 'Europe' 'Africa' 'Eastern Mediterranean' 'Europe'\n",
      " 'Eastern Mediterranean' 'Western Pacific' 'Europe' 'Africa'\n",
      " 'Western Pacific' 'Africa' 'Africa' 'Europe' 'Americas'\n",
      " 'Eastern Mediterranean' 'Europe' 'Eastern Mediterranean' 'Africa' 'Europe'\n",
      " 'Europe' 'Europe' 'Western Pacific' 'Europe' 'Africa' 'Americas'\n",
      " 'Americas' 'Americas' 'Europe' 'Europe' 'Europe' 'Eastern Mediterranean'\n",
      " 'Eastern Mediterranean' 'Americas' 'Americas' 'Western Pacific' 'Europe'\n",
      " 'Eastern Mediterranean' 'Eastern Mediterranean' 'Eastern Mediterranean'\n",
      " 'Western Pacific' 'Americas' 'Eastern Mediterranean' 'Americas'\n",
      " 'Eastern Mediterranean' 'Eastern Mediterranean' 'Africa' 'Africa' 'Africa'\n",
      " 'Africa' 'Africa' 'Africa' 'Eastern Mediterranean' 'Americas'\n",
      " 'Eastern Mediterranean' 'Africa' 'Africa' 'Americas' 'Europe' 'Africa'\n",
      " 'Europe' 'Europe' 'Europe' 'South-East Asia' 'Africa' 'Americas'\n",
      " 'Eastern Mediterranean' 'Eastern Mediterranean' 'Eastern Mediterranean'\n",
      " 'Africa' 'Europe' 'Africa' 'Africa' 'Europe' 'Africa' 'Europe'\n",
      " 'South-East Asia' 'Africa' 'South-East Asia' 'Americas'\n",
      " 'Eastern Mediterranean' 'Americas' 'Africa' 'Europe' 'Africa'\n",
      " 'Eastern Mediterranean' 'Africa' 'Africa' 'Americas' 'Americas' 'Americas'\n",
      " 'Europe' 'Eastern Mediterranean' 'Africa' 'Europe' 'Eastern Mediterranean'\n",
      " 'Africa' 'Africa' 'Americas' 'Americas' 'Eastern Mediterranean'\n",
      " 'Eastern Mediterranean' 'Europe' 'Europe' 'Europe' 'Europe'\n",
      " 'South-East Asia' 'Africa' 'Europe' 'Africa' 'Americas' 'Africa' 'Europe'\n",
      " 'Europe' 'Eastern Mediterranean' 'Africa' 'Africa' 'Africa' 'Africa'\n",
      " 'Europe' 'Africa' 'Americas' 'Europe' 'Africa' 'Africa' 'Americas'\n",
      " 'Western Pacific' 'Europe' 'Africa' 'Eastern Mediterranean' 'Americas'\n",
      " 'Americas' 'Europe' 'Europe' 'Americas' 'Europe' 'Western Pacific'\n",
      " 'Africa' 'Africa' 'Americas' 'Americas' 'Americas' 'Americas'\n",
      " 'Western Pacific' 'Eastern Mediterranean' 'Americas' 'Europe' 'Europe'\n",
      " 'Eastern Mediterranean' 'Europe' 'Western Pacific' 'Africa' 'Americas'\n",
      " 'Europe' 'Europe' 'Eastern Mediterranean' 'Africa' 'Europe' 'Africa'\n",
      " 'Africa' 'Africa' 'Africa' 'Africa' 'Americas' 'Americas' 'Europe'\n",
      " 'Africa' 'Western Pacific' 'Eastern Mediterranean' 'Eastern Mediterranean'\n",
      " 'Europe' 'Europe' 'Eastern Mediterranean' 'Eastern Mediterranean' 'Europe'\n",
      " 'Africa' 'Africa' 'Europe' 'Africa' 'Americas' 'Africa' 'Americas'\n",
      " 'Western Pacific' 'South-East Asia' 'Africa' 'Western Pacific' 'Europe'\n",
      " 'Americas' 'Eastern Mediterranean' 'Europe' 'South-East Asia' 'Africa'\n",
      " 'Eastern Mediterranean' 'Europe' 'Americas' 'Eastern Mediterranean'\n",
      " 'South-East Asia' 'Western Pacific' 'Europe' 'Europe' 'Americas' 'Africa'\n",
      " 'Western Pacific' 'Europe' 'Africa' 'Africa' 'Western Pacific' 'Africa'\n",
      " 'Africa' 'Europe' 'Western Pacific' 'Africa' 'Western Pacific' 'Africa'\n",
      " 'Africa' 'South-East Asia' 'Africa' 'South-East Asia' 'Europe' 'Africa'\n",
      " 'Europe' 'Eastern Mediterranean' 'Eastern Mediterranean' 'Americas'\n",
      " 'Eastern Mediterranean' 'Africa' 'Africa' 'Africa' 'Americas' 'Africa'\n",
      " 'South-East Asia' 'Africa' 'South-East Asia' 'Western Pacific' 'Europe'\n",
      " 'Africa' 'South-East Asia' 'Americas' 'Western Pacific' 'Americas'\n",
      " 'Americas' 'Africa' 'Eastern Mediterranean' 'Europe' 'Africa' 'Europe'\n",
      " 'Europe']\n"
     ]
    }
   ],
   "source": [
    "# get the second column\n",
    "print(world_alcohol[:, 1])"
   ]
  },
  {
   "cell_type": "code",
   "execution_count": 52,
   "metadata": {
    "collapsed": false
   },
   "outputs": [
    {
     "name": "stdout",
     "output_type": "stream",
     "text": [
      "[['1986' 'Western Pacific']\n",
      " ['1986' 'Americas']\n",
      " ['1985' 'Africa']\n",
      " ['1986' 'Americas']\n",
      " ['1987' 'Americas']\n",
      " ['1987' 'Americas']\n",
      " ['1987' 'Africa']\n",
      " ['1985' 'Africa']\n",
      " ['1986' 'Americas']\n",
      " ['1984' 'Africa']\n",
      " ['1987' 'Africa']\n",
      " ['1989' 'Americas']\n",
      " ['1985' 'Western Pacific']\n",
      " ['1984' 'Eastern Mediterranean']\n",
      " ['1985' 'Western Pacific']\n",
      " ['1987' 'Africa']\n",
      " ['1984' 'Americas']\n",
      " ['1989' 'Africa']\n",
      " ['1984' 'Europe']\n",
      " ['1984' 'Africa']\n",
      " ['1986' 'South-East Asia']\n",
      " ['1989' 'Americas']\n",
      " ['1984' 'Europe']\n",
      " ['1984' 'Europe']\n",
      " ['1985' 'Africa']\n",
      " ['1984' 'Eastern Mediterranean']\n",
      " ['1985' 'Europe']\n",
      " ['1984' 'Eastern Mediterranean']\n",
      " ['1987' 'Western Pacific']\n",
      " ['1986' 'Europe']\n",
      " ['1986' 'Africa']\n",
      " ['1986' 'Western Pacific']\n",
      " ['1989' 'Africa']\n",
      " ['1985' 'Africa']\n",
      " ['1986' 'Europe']\n",
      " ['1985' 'Americas']\n",
      " ['1987' 'Eastern Mediterranean']\n",
      " ['1986' 'Europe']\n",
      " ['1987' 'Eastern Mediterranean']\n",
      " ['1987' 'Africa']\n",
      " ['1987' 'Europe']\n",
      " ['1986' 'Europe']\n",
      " ['1984' 'Europe']\n",
      " ['1984' 'Western Pacific']\n",
      " ['1985' 'Europe']\n",
      " ['1989' 'Africa']\n",
      " ['1987' 'Americas']\n",
      " ['1986' 'Americas']\n",
      " ['1987' 'Americas']\n",
      " ['1986' 'Europe']\n",
      " ['1985' 'Europe']\n",
      " ['1987' 'Europe']\n",
      " ['1986' 'Eastern Mediterranean']\n",
      " ['1984' 'Eastern Mediterranean']\n",
      " ['1984' 'Americas']\n",
      " ['1989' 'Americas']\n",
      " ['1987' 'Western Pacific']\n",
      " ['1989' 'Europe']\n",
      " ['1984' 'Eastern Mediterranean']\n",
      " ['1989' 'Eastern Mediterranean']\n",
      " ['1987' 'Eastern Mediterranean']\n",
      " ['1984' 'Western Pacific']\n",
      " ['1987' 'Americas']\n",
      " ['1985' 'Eastern Mediterranean']\n",
      " ['1989' 'Americas']\n",
      " ['1989' 'Eastern Mediterranean']\n",
      " ['1987' 'Eastern Mediterranean']\n",
      " ['1989' 'Africa']\n",
      " ['1989' 'Africa']\n",
      " ['1986' 'Africa']\n",
      " ['1986' 'Africa']\n",
      " ['1985' 'Africa']\n",
      " ['1987' 'Africa']\n",
      " ['1986' 'Eastern Mediterranean']\n",
      " ['1986' 'Americas']\n",
      " ['1989' 'Eastern Mediterranean']\n",
      " ['1985' 'Africa']\n",
      " ['1985' 'Africa']\n",
      " ['1989' 'Americas']\n",
      " ['1989' 'Europe']\n",
      " ['1985' 'Africa']\n",
      " ['1985' 'Europe']\n",
      " ['1987' 'Europe']\n",
      " ['1986' 'Europe']\n",
      " ['1986' 'South-East Asia']\n",
      " ['1985' 'Africa']\n",
      " ['1986' 'Americas']\n",
      " ['1989' 'Eastern Mediterranean']\n",
      " ['1987' 'Eastern Mediterranean']\n",
      " ['1986' 'Eastern Mediterranean']\n",
      " ['1989' 'Africa']\n",
      " ['1989' 'Europe']\n",
      " ['1986' 'Africa']\n",
      " ['1987' 'Africa']\n",
      " ['1985' 'Europe']\n",
      " ['1984' 'Africa']\n",
      " ['1985' 'Europe']\n",
      " ['1984' 'South-East Asia']\n",
      " ['1984' 'Africa']\n",
      " ['1985' 'South-East Asia']\n",
      " ['1987' 'Americas']\n",
      " ['1985' 'Eastern Mediterranean']\n",
      " ['1989' 'Americas']\n",
      " ['1989' 'Africa']\n",
      " ['1986' 'Europe']\n",
      " ['1986' 'Africa']\n",
      " ['1989' 'Eastern Mediterranean']\n",
      " ['1986' 'Africa']\n",
      " ['1987' 'Africa']\n",
      " ['1984' 'Americas']\n",
      " ['1985' 'Americas']\n",
      " ['1986' 'Americas']\n",
      " ['1987' 'Europe']\n",
      " ['1987' 'Eastern Mediterranean']\n",
      " ['1989' 'Africa']\n",
      " ['1986' 'Europe']\n",
      " ['1987' 'Eastern Mediterranean']\n",
      " ['1984' 'Africa']\n",
      " ['1985' 'Africa']\n",
      " ['1985' 'Americas']\n",
      " ['1987' 'Americas']\n",
      " ['1985' 'Eastern Mediterranean']\n",
      " ['1987' 'Eastern Mediterranean']\n",
      " ['1989' 'Europe']\n",
      " ['1985' 'Europe']\n",
      " ['1989' 'Europe']\n",
      " ['1985' 'Europe']\n",
      " ['1984' 'South-East Asia']\n",
      " ['1984' 'Africa']\n",
      " ['1989' 'Europe']\n",
      " ['1987' 'Africa']\n",
      " ['1986' 'Americas']\n",
      " ['1984' 'Africa']\n",
      " ['1989' 'Europe']\n",
      " ['1985' 'Europe']\n",
      " ['1984' 'Eastern Mediterranean']\n",
      " ['1987' 'Africa']\n",
      " ['1986' 'Africa']\n",
      " ['1989' 'Africa']\n",
      " ['1989' 'Africa']\n",
      " ['1987' 'Europe']\n",
      " ['1986' 'Africa']\n",
      " ['1987' 'Americas']\n",
      " ['1987' 'Europe']\n",
      " ['1986' 'Africa']\n",
      " ['1987' 'Africa']\n",
      " ['1984' 'Americas']\n",
      " ['1985' 'Western Pacific']\n",
      " ['1989' 'Europe']\n",
      " ['1986' 'Africa']\n",
      " ['1989' 'Eastern Mediterranean']\n",
      " ['1989' 'Americas']\n",
      " ['1987' 'Americas']\n",
      " ['1985' 'Europe']\n",
      " ['1987' 'Europe']\n",
      " ['1986' 'Americas']\n",
      " ['1985' 'Europe']\n",
      " ['1985' 'Western Pacific']\n",
      " ['1985' 'Africa']\n",
      " ['1985' 'Africa']\n",
      " ['1984' 'Americas']\n",
      " ['1989' 'Americas']\n",
      " ['1989' 'Americas']\n",
      " ['1984' 'Americas']\n",
      " ['1985' 'Western Pacific']\n",
      " ['1984' 'Eastern Mediterranean']\n",
      " ['1987' 'Americas']\n",
      " ['1987' 'Europe']\n",
      " ['1986' 'Europe']\n",
      " ['1987' 'Eastern Mediterranean']\n",
      " ['1987' 'Europe']\n",
      " ['1986' 'Western Pacific']\n",
      " ['1984' 'Africa']\n",
      " ['1987' 'Americas']\n",
      " ['1984' 'Europe']\n",
      " ['1985' 'Europe']\n",
      " ['1989' 'Eastern Mediterranean']\n",
      " ['1985' 'Africa']\n",
      " ['1984' 'Europe']\n",
      " ['1987' 'Africa']\n",
      " ['1989' 'Africa']\n",
      " ['1984' 'Africa']\n",
      " ['1986' 'Africa']\n",
      " ['1987' 'Africa']\n",
      " ['1986' 'Americas']\n",
      " ['1987' 'Americas']\n",
      " ['1985' 'Europe']\n",
      " ['1989' 'Africa']\n",
      " ['1989' 'Western Pacific']\n",
      " ['1985' 'Eastern Mediterranean']\n",
      " ['1987' 'Eastern Mediterranean']\n",
      " ['1989' 'Europe']\n",
      " ['1985' 'Europe']\n",
      " ['1985' 'Eastern Mediterranean']\n",
      " ['1989' 'Eastern Mediterranean']\n",
      " ['1986' 'Europe']\n",
      " ['1989' 'Africa']\n",
      " ['1987' 'Africa']\n",
      " ['1989' 'Europe']\n",
      " ['1987' 'Africa']\n",
      " ['1989' 'Americas']\n",
      " ['1989' 'Africa']\n",
      " ['1989' 'Americas']\n",
      " ['1986' 'Western Pacific']\n",
      " ['1985' 'South-East Asia']\n",
      " ['1984' 'Africa']\n",
      " ['1987' 'Western Pacific']\n",
      " ['1985' 'Europe']\n",
      " ['1987' 'Americas']\n",
      " ['1989' 'Eastern Mediterranean']\n",
      " ['1989' 'Europe']\n",
      " ['1985' 'South-East Asia']\n",
      " ['1989' 'Africa']\n",
      " ['1986' 'Eastern Mediterranean']\n",
      " ['1984' 'Europe']\n",
      " ['1987' 'Americas']\n",
      " ['1985' 'Eastern Mediterranean']\n",
      " ['1986' 'South-East Asia']\n",
      " ['1987' 'Western Pacific']\n",
      " ['1989' 'Europe']\n",
      " ['1989' 'Europe']\n",
      " ['1987' 'Americas']\n",
      " ['1984' 'Africa']\n",
      " ['1985' 'Western Pacific']\n",
      " ['1985' 'Europe']\n",
      " ['1986' 'Africa']\n",
      " ['1987' 'Africa']\n",
      " ['1987' 'Western Pacific']\n",
      " ['1987' 'Africa']\n",
      " ['1985' 'Africa']\n",
      " ['1989' 'Europe']\n",
      " ['1987' 'Western Pacific']\n",
      " ['1985' 'Africa']\n",
      " ['1986' 'Western Pacific']\n",
      " ['1985' 'Africa']\n",
      " ['1987' 'Africa']\n",
      " ['1986' 'South-East Asia']\n",
      " ['1987' 'Africa']\n",
      " ['1985' 'South-East Asia']\n",
      " ['1985' 'Europe']\n",
      " ['1984' 'Africa']\n",
      " ['1986' 'Europe']\n",
      " ['1989' 'Eastern Mediterranean']\n",
      " ['1985' 'Eastern Mediterranean']\n",
      " ['1987' 'Americas']\n",
      " ['1984' 'Eastern Mediterranean']\n",
      " ['1989' 'Africa']\n",
      " ['1989' 'Africa']\n",
      " ['1989' 'Africa']\n",
      " ['1986' 'Americas']\n",
      " ['1987' 'Africa']\n",
      " ['1986' 'South-East Asia']\n",
      " ['1987' 'Africa']\n",
      " ['1984' 'South-East Asia']\n",
      " ['1986' 'Western Pacific']\n",
      " ['1986' 'Europe']\n",
      " ['1987' 'Africa']\n",
      " ['1987' 'South-East Asia']\n",
      " ['1985' 'Americas']\n",
      " ['1987' 'Western Pacific']\n",
      " ['1984' 'Americas']\n",
      " ['1986' 'Americas']\n",
      " ['1984' 'Africa']\n",
      " ['1985' 'Eastern Mediterranean']\n",
      " ['1987' 'Europe']\n",
      " ['1989' 'Africa']\n",
      " ['1989' 'Europe']\n",
      " ['1984' 'Europe']]\n"
     ]
    }
   ],
   "source": [
    "# get the fist and second columns\n",
    "print(world_alcohol[:, 0:2])"
   ]
  },
  {
   "cell_type": "code",
   "execution_count": 53,
   "metadata": {
    "collapsed": false
   },
   "outputs": [
    {
     "name": "stdout",
     "output_type": "stream",
     "text": [
      "[['1986' 'Americas' 'Uruguay' 'Other' '0.5']\n",
      " ['1985' 'Africa' \"Cte d'Ivoire\" 'Wine' '1.62']]\n"
     ]
    }
   ],
   "source": [
    "# get the second and third rows, all columns\n",
    "print(world_alcohol[1:3, :])"
   ]
  },
  {
   "cell_type": "code",
   "execution_count": 54,
   "metadata": {
    "collapsed": false
   },
   "outputs": [
    {
     "name": "stdout",
     "output_type": "stream",
     "text": [
      "[['1986' 'Americas']\n",
      " ['1985' 'Africa']]\n"
     ]
    }
   ],
   "source": [
    "# get the second and third rows, first and second columns\n",
    "print(world_alcohol[1:3, 0:2])"
   ]
  },
  {
   "cell_type": "code",
   "execution_count": 58,
   "metadata": {
    "collapsed": false
   },
   "outputs": [],
   "source": [
    "# Array Comparisons\n",
    "countries_canada = world_alcohol[:, 2]==\"Canada\"\n",
    "product_year = world_alcohol[:, 0] == \"1984\""
   ]
  },
  {
   "cell_type": "code",
   "execution_count": 59,
   "metadata": {
    "collapsed": false
   },
   "outputs": [
    {
     "name": "stdout",
     "output_type": "stream",
     "text": [
      "[['1984' 'Africa' 'Algeria' 'Spirits' '0.01']\n",
      " ['1987' 'Africa' 'Algeria' 'Beer' '0.17']\n",
      " ['1987' 'Africa' 'Algeria' 'Spirits' '0.01']]\n"
     ]
    }
   ],
   "source": [
    "# Selecting Elements\n",
    "country_is_algeria = \"Algeria\" == world_alcohol[:, 2]\n",
    "country_algeria = world_alcohol[country_is_algeria, :]\n",
    "\n",
    "print(country_algeria)"
   ]
  },
  {
   "cell_type": "code",
   "execution_count": 64,
   "metadata": {
    "collapsed": false
   },
   "outputs": [
    {
     "name": "stdout",
     "output_type": "stream",
     "text": [
      "[['1987' 'Africa' 'Algeria' 'Beer' '0.17']\n",
      " ['1987' 'Africa' 'Algeria' 'Spirits' '0.01']]\n"
     ]
    }
   ],
   "source": [
    "# Comparison with multiple conditions\n",
    "year = world_alcohol[:, 0]\n",
    "country = world_alcohol[:, 2]\n",
    "is_algeria_and_1987 = (country == \"Algeria\") & (year == \"1987\")\n",
    "rows_with_algeria_and_1987 = world_alcohol[is_algeria_and_1987, :]\n",
    "print(rows_with_algeria_and_1987)"
   ]
  },
  {
   "cell_type": "code",
   "execution_count": 66,
   "metadata": {
    "collapsed": true
   },
   "outputs": [],
   "source": [
    "# Replacing value\n",
    "row_1986 = world_alcohol[:, 0] == \"1986\"\n",
    "world_alcohol[row_1986, 0] = \"2014\"\n",
    "\n",
    "row_wine = world_alcohol[:, 3] == \"Wine\"\n",
    "world_alcohol[row_wine, 3] = \"Grog\"\n",
    "\n",
    "# Replacing empty value\n",
    "is_value_empty = world_alcohol[:, 4] == \"\"\n",
    "world_alcohol[is_value_empty, 4] = \"0\""
   ]
  },
  {
   "cell_type": "code",
   "execution_count": 69,
   "metadata": {
    "collapsed": false
   },
   "outputs": [
    {
     "name": "stdout",
     "output_type": "stream",
     "text": [
      "float64\n"
     ]
    }
   ],
   "source": [
    "# Convering data type\n",
    "alcohol_consumption = world_alcohol[:, 4]\n",
    "alcohol_consumption = alcohol_consumption.astype(float)\n",
    "print(alcohol_consumption.dtype)"
   ]
  },
  {
   "cell_type": "code",
   "execution_count": 72,
   "metadata": {
    "collapsed": false
   },
   "outputs": [
    {
     "name": "stdout",
     "output_type": "stream",
     "text": [
      "225\n",
      "[60 75 90]\n",
      "[ 30  75 120]\n"
     ]
    }
   ],
   "source": [
    "# Computing with numpy\n",
    "matrix = numpy.array([\n",
    "        [5,  10, 15],\n",
    "        [20, 25, 30],\n",
    "        [35, 40, 45]\n",
    "    ])\n",
    "print(matrix.sum())\n",
    "print(matrix.sum(axis=0)) #0 means column, 1 means row\n",
    "print(matrix.sum(axis=1))"
   ]
  },
  {
   "cell_type": "code",
   "execution_count": 74,
   "metadata": {
    "collapsed": true
   },
   "outputs": [],
   "source": [
    "total_alcohol = alcohol_consumption.sum()\n",
    "average_alcohol = alcohol_consumption.mean()"
   ]
  },
  {
   "cell_type": "code",
   "execution_count": 75,
   "metadata": {
    "collapsed": false
   },
   "outputs": [
    {
     "name": "stdout",
     "output_type": "stream",
     "text": [
      "(0, 5)\n",
      "total Canadian drinking 1986: 0.0\n"
     ]
    }
   ],
   "source": [
    "# Total annual alcohol consumption\n",
    "row_canada_1986 = (world_alcohol[:, 0] == \"1986\")  & (world_alcohol[:, 2] == \"Canada\")\n",
    "canada_1986 = world_alcohol[row_canada_1986, :]\n",
    "print(canada_1986.shape)\n",
    "\n",
    "row_value_blank = canada_1986[:, 4] == \"\"\n",
    "canada_1986[row_value_blank, 4] = \"0\"\n",
    "canada_alcohol = canada_1986[:, 4].astype(float)\n",
    "total_canadian_drinking = canada_alcohol.sum()\n",
    "print(\"total Canadian drinking 1986: {0}\".format(total_canadian_drinking))"
   ]
  },
  {
   "cell_type": "code",
   "execution_count": 79,
   "metadata": {
    "collapsed": false
   },
   "outputs": [
    {
     "name": "stdout",
     "output_type": "stream",
     "text": [
      "{'Algeria': 0.0, 'Israel': 0.0, 'Brunei Darussalam': 0.0, 'Fiji': 0.0, 'Peru': 2.9900000000000002, 'Belarus': 4.8099999999999996, 'Italy': 1.3200000000000001, 'Greece': 4.1200000000000001, 'Libya': 0.0, 'Austria': 0.0, 'Sierra Leone': 0.0, 'Chile': 0.0, 'Botswana': 0.0, 'Portugal': 0.0, 'Mali': 0.0, 'Croatia': 5.0999999999999996, 'Australia': 0.0, 'Guinea-Bissau': 0.0, 'Burkina Faso': 0.0, 'Togo': 0.0, 'Suriname': 0.040000000000000001, 'Comoros': 0.089999999999999997, \"Cte d'Ivoire\": 0.0, 'Gabon': 6.4900000000000002, 'Iceland': 0.0, 'Morocco': 0.0, 'Slovakia': 0.0, 'Costa Rica': 4.5099999999999998, 'Guinea': 0.0, 'Afghanistan': 0.0, 'Senegal': 0.28000000000000003, 'Sri Lanka': 0.0, 'Russian Federation': 0.0, 'Malawi': 0.21000000000000002, 'Cambodia': 0.0, 'Mongolia': 0.0, \"Lao People's Democratic Republic\": 0.0, 'United Arab Emirates': 3.6899999999999999, 'Uruguay': 0.0, 'Namibia': 0.0, 'Cameroon': 0.0, 'Nicaragua': 0.01, 'Somalia': 0.0, 'Norway': 0.0, 'Vanuatu': 0.0, 'Poland': 6.0800000000000001, 'Swaziland': 0.0, 'Bhutan': 0.0, 'Bangladesh': 0.0, 'Philippines': 0.0, 'Burundi': 2.8399999999999999, 'Zambia': 0.0, 'Cyprus': 0.0, 'Micronesia (Federated States of)': 0.0, 'Sudan': 0.0, 'Democratic Republic of the Congo': 0.0, 'Solomon Islands': 0.0, 'Lithuania': 0.0, 'Antigua and Barbuda': 0.0, 'France': 10.24, 'Viet Nam': 0.029999999999999999, 'Ukraine': 0.0, 'Gambia': 0.0, 'Liberia': 0.41999999999999998, 'Kenya': 0.0, 'Jamaica': 0.0, 'Egypt': 0.0, 'Indonesia': 0.0, 'Niger': 0.0, \"Democratic People's Republic of Korea\": 0.0, 'Yemen': 0.0, 'Ghana': 0.0, 'Dominican Republic': 0.0, 'Iran (Islamic Republic of)': 0.0, 'Thailand': 0.0, 'Pakistan': 0.0, 'Sweden': 3.5499999999999998, 'United States of America': 0.0, 'Qatar': 0.0, 'United Republic of Tanzania': 0.0, 'Malta': 0.0, 'Venezuela (Bolivarian Republic of)': 0.0, 'Mauritius': 1.6000000000000001, 'Saint Kitts and Nevis': 0.0, 'Cabo Verde': 1.6899999999999999, 'Zimbabwe': 0.19, 'Singapore': 0.0, 'Netherlands': 0.0, 'Mauritania': 0.0, 'Hungary': 0.0, 'Tunisia': 0.0, 'Colombia': 0.0, 'Equatorial Guinea': 0.0, 'Central African Republic': 0.029999999999999999, 'Romania': 0.0, 'El Salvador': 0.0, 'Chad': 0.0, 'Ireland': 0.0, 'Myanmar': 0.0, 'Guyana': 8.9000000000000004, 'Ecuador': 0.0, 'Saudi Arabia': 0.0, 'Trinidad and Tobago': 2.2799999999999998, 'Guatemala': 0.62, 'Djibouti': 0.0, 'China': 0.0, 'Cuba': 0.0, 'Luxembourg': 0.0, 'Bahamas': 0.0, 'Kuwait': 0.0, 'Brazil': 0.0, 'Czech Republic': 0.0, 'Syrian Arab Republic': 0.11, 'Madagascar': 0.0, 'Congo': 0.0, 'Lebanon': 0.0, 'Slovenia': 2.7200000000000002, 'Canada': 0.0, 'Iraq': 0.01, 'Turkey': 0.0, 'India': 0.0, 'Bolivia (Plurinational State of)': 1.26, 'Honduras': 0.0, 'Sao Tome and Principe': 0.0, 'United Kingdom of Great Britain and Northern Ireland': 0.0, 'Eritrea': 0.0, 'Belize': 0.0, 'Kyrgyzstan': 0.71999999999999997, 'Paraguay': 0.0, 'Bahrain': 3.5600000000000001, 'Nigeria': 0.0, 'Uganda': 0.12, 'Bulgaria': 7.4499999999999993, 'Papua New Guinea': 0.0, 'Spain': 0.0, 'Benin': 0.98999999999999999, 'Mexico': 0.0, 'Finland': 2.0899999999999999, 'Switzerland': 0.0, 'Belgium': 7.0099999999999998, 'Lesotho': 0.35999999999999999, 'Angola': 0.0, 'Seychelles': 2.23}\n"
     ]
    }
   ],
   "source": [
    "# Calculating comsumption for each country\n",
    "totals = {}\n",
    "\n",
    "def total_drinking(country, year):\n",
    "    row_country_year = (world_alcohol[:, 0] == year)  & (world_alcohol[:, 2] == country)\n",
    "    country_year = world_alcohol[row_country_year, :]\n",
    "    \n",
    "    row_value_blank = country_year[:, 4] == \"\"\n",
    "    country_year[row_value_blank, 4] = \"0\"\n",
    "    canada_alcohol = country_year[:, 4].astype(float)\n",
    "    return(canada_alcohol.sum())\n",
    "    \n",
    "countries = numpy.unique(world_alcohol[:, 2])\n",
    "for country in countries:\n",
    "    totals[country] = total_drinking(country, \"1989\")\n",
    "    \n",
    "print(totals)\n"
   ]
  },
  {
   "cell_type": "code",
   "execution_count": 80,
   "metadata": {
    "collapsed": false
   },
   "outputs": [
    {
     "name": "stdout",
     "output_type": "stream",
     "text": [
      "10.24\n",
      "France\n"
     ]
    }
   ],
   "source": [
    "# Finding the country that drinks most\n",
    "highest_value = 0\n",
    "highest_key = None\n",
    "\n",
    "for country in totals:\n",
    "    if (totals[country] > highest_value):\n",
    "        highest_value = totals[country]\n",
    "        highest_key = country\n",
    "\n",
    "print(highest_value)\n",
    "print(highest_key)"
   ]
  }
 ],
 "metadata": {
  "anaconda-cloud": {},
  "kernelspec": {
   "display_name": "Python [default]",
   "language": "python",
   "name": "python3"
  },
  "language_info": {
   "codemirror_mode": {
    "name": "ipython",
    "version": 3
   },
   "file_extension": ".py",
   "mimetype": "text/x-python",
   "name": "python",
   "nbconvert_exporter": "python",
   "pygments_lexer": "ipython3",
   "version": "3.5.2"
  }
 },
 "nbformat": 4,
 "nbformat_minor": 1
}
