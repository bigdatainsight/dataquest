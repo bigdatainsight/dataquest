{
 "cells": [
  {
   "cell_type": "markdown",
   "metadata": {},
   "source": [
    "# 1. Overview\n",
    "\n",
    "Nutrional Index:\n",
    "$$\\text{Score} = 2\\times\\text{(Protein_(g))}  -  0.75\\times\\text{(Lipid_Tot_(g))}$$"
   ]
  },
  {
   "cell_type": "code",
   "execution_count": 2,
   "metadata": {
    "collapsed": false
   },
   "outputs": [
    {
     "name": "stdout",
     "output_type": "stream",
     "text": [
      "['NDB_No', 'Shrt_Desc', 'Water_(g)', 'Energ_Kcal', 'Protein_(g)', 'Lipid_Tot_(g)', 'Ash_(g)', 'Carbohydrt_(g)', 'Fiber_TD_(g)', 'Sugar_Tot_(g)', 'Calcium_(mg)', 'Iron_(mg)', 'Magnesium_(mg)', 'Phosphorus_(mg)', 'Potassium_(mg)', 'Sodium_(mg)', 'Zinc_(mg)', 'Copper_mg)', 'Manganese_(mg)', 'Selenium_(µg)', 'Vit_C_(mg)', 'Thiamin_(mg)', 'Riboflavin_(mg)', 'Niacin_(mg)', 'Panto_Acid_mg)', 'Vit_B6_(mg)', 'Folate_Tot_(µg)', 'Folic_Acid_(µg)', 'Food_Folate_(µg)', 'Folate_DFE_(µg)', 'Choline_Tot_ (mg)', 'Vit_B12_(µg)', 'Vit_A_IU', 'Vit_A_RAE', 'Retinol_(µg)', 'Alpha_Carot_(µg)', 'Beta_Carot_(µg)', 'Beta_Crypt_(µg)', 'Lycopene_(µg)', 'Lut+Zea_ (µg)', 'Vit_E_(mg)', 'Vit_D_µg', 'Vit_D_IU', 'Vit_K_(µg)', 'FA_Sat_(g)', 'FA_Mono_(g)', 'FA_Poly_(g)', 'Cholestrl_(mg)', 'GmWt_1', 'GmWt_Desc1', 'GmWt_2', 'GmWt_Desc2', 'Refuse_Pct']\n",
      "   NDB_No               Shrt_Desc  Water_(g)  Energ_Kcal  Protein_(g)  \\\n",
      "0    1001        BUTTER,WITH SALT      15.87         717         0.85   \n",
      "1    1002  BUTTER,WHIPPED,W/ SALT      16.72         718         0.49   \n",
      "2    1003    BUTTER OIL,ANHYDROUS       0.24         876         0.28   \n",
      "\n",
      "   Lipid_Tot_(g)  Ash_(g)  Carbohydrt_(g)  Fiber_TD_(g)  Sugar_Tot_(g)  \\\n",
      "0          81.11     2.11            0.06           0.0           0.06   \n",
      "1          78.30     1.62            2.87           0.0           0.06   \n",
      "2          99.48     0.00            0.00           0.0           0.00   \n",
      "\n",
      "      ...      Vit_K_(µg)  FA_Sat_(g)  FA_Mono_(g)  FA_Poly_(g)  \\\n",
      "0     ...             7.0      51.368       21.021        3.043   \n",
      "1     ...             4.6      45.390       19.874        3.331   \n",
      "2     ...             8.6      61.924       28.732        3.694   \n",
      "\n",
      "   Cholestrl_(mg)  GmWt_1                  GmWt_Desc1  GmWt_2  GmWt_Desc2  \\\n",
      "0           215.0     5.0  1 pat,  (1\" sq, 1/3\" high)    14.2      1 tbsp   \n",
      "1           225.0     3.8  1 pat,  (1\" sq, 1/3\" high)     9.4      1 tbsp   \n",
      "2           256.0    12.8                      1 tbsp   205.0       1 cup   \n",
      "\n",
      "   Refuse_Pct  \n",
      "0         0.0  \n",
      "1         0.0  \n",
      "2         0.0  \n",
      "\n",
      "[3 rows x 53 columns]\n"
     ]
    }
   ],
   "source": [
    "import pandas\n",
    "food_info = pandas.read_csv(\"food_info.csv\", encoding=\"iso-8859-1\")\n",
    "col_names = food_info.columns.tolist()\n",
    "print(col_names)\n",
    "print(food_info.head(3))"
   ]
  },
  {
   "cell_type": "markdown",
   "metadata": {},
   "source": [
    "# 2. Transforming a column"
   ]
  },
  {
   "cell_type": "code",
   "execution_count": 3,
   "metadata": {
    "collapsed": true
   },
   "outputs": [],
   "source": [
    "div_1000 = food_info[\"Iron_(mg)\"] / 1000\n",
    "add_100 = food_info[\"Iron_(mg)\"] + 100\n",
    "sub_100 = food_info[\"Iron_(mg)\"] - 100\n",
    "mult_2 = food_info[\"Iron_(mg)\"]*2\n",
    "sodium_grams = food_info[\"Sodium_(mg)\"] / 1000\n",
    "sugar_milligrams = food_info[\"Sugar_Tot_(g)\"] * 1000"
   ]
  },
  {
   "cell_type": "markdown",
   "metadata": {},
   "source": [
    "# 3. Performing math with multiple columns"
   ]
  },
  {
   "cell_type": "code",
   "execution_count": 4,
   "metadata": {
    "collapsed": false
   },
   "outputs": [
    {
     "name": "stdout",
     "output_type": "stream",
     "text": [
      "0    11378.79\n",
      "1    12004.96\n",
      "2      210.24\n",
      "3    14970.73\n",
      "4    15251.81\n",
      "dtype: float64\n"
     ]
    }
   ],
   "source": [
    "water_energy = food_info[\"Water_(g)\"] * food_info[\"Energ_Kcal\"]\n",
    "print(water_energy[0:5])\n",
    "grams_of_protein_per_gram_of_water = food_info[\"Protein_(g)\"] / food_info[\"Water_(g)\"]\n",
    "milligrams_of_calcium_and_iron = food_info[\"Calcium_(mg)\"] + food_info[\"Iron_(mg)\"]"
   ]
  },
  {
   "cell_type": "markdown",
   "metadata": {},
   "source": [
    "# 4. Creating a nutrional index"
   ]
  },
  {
   "cell_type": "code",
   "execution_count": 5,
   "metadata": {
    "collapsed": true
   },
   "outputs": [],
   "source": [
    "weighted_protein = food_info[\"Protein_(g)\"] * 2\n",
    "weighted_fat = -0.75 * food_info[\"Lipid_Tot_(g)\"]\n",
    "initial_rating = weighted_protein + weighted_fat"
   ]
  },
  {
   "cell_type": "markdown",
   "metadata": {},
   "source": [
    "# 5. Normalizing columns in a data set"
   ]
  },
  {
   "cell_type": "code",
   "execution_count": 10,
   "metadata": {
    "collapsed": false
   },
   "outputs": [
    {
     "name": "stdout",
     "output_type": "stream",
     "text": [
      "0.0\n",
      "88.32\n",
      "Normized Protein: 0       0.009624\n",
      "1       0.005548\n",
      "2       0.003170\n",
      "3       0.242301\n",
      "4       0.263134\n",
      "5       0.234941\n",
      "6       0.224185\n",
      "7       0.285100\n",
      "8       0.258945\n",
      "9       0.264606\n",
      "10      0.269022\n",
      "11      0.125906\n",
      "12      0.121037\n",
      "13      0.117074\n",
      "14      0.118320\n",
      "15      0.140285\n",
      "16      0.069633\n",
      "17      0.282948\n",
      "18      0.160892\n",
      "19      0.289855\n",
      "20      0.109262\n",
      "21      0.282382\n",
      "22      0.337523\n",
      "23      0.227015\n",
      "24      0.277174\n",
      "25      0.251019\n",
      "26      0.244565\n",
      "27      0.274683\n",
      "28      0.268909\n",
      "29      0.265059\n",
      "          ...   \n",
      "8760    0.074728\n",
      "8761    0.011322\n",
      "8762    0.003397\n",
      "8763    0.098505\n",
      "8764    0.080616\n",
      "8765    0.142663\n",
      "8766    0.005661\n",
      "8767    0.321558\n",
      "8768    0.049819\n",
      "8769    0.311368\n",
      "8770    0.000000\n",
      "8771    0.000000\n",
      "8772    0.000000\n",
      "8773    0.046196\n",
      "8774    0.127944\n",
      "8775    0.060009\n",
      "8776    0.000000\n",
      "8777    0.003397\n",
      "8778    0.004642\n",
      "8779    0.000906\n",
      "8780    0.114130\n",
      "8781    0.018116\n",
      "8782    0.009171\n",
      "8783    0.850996\n",
      "8784    0.185688\n",
      "8785    0.209466\n",
      "8786    0.232563\n",
      "8787    0.000000\n",
      "8788    0.182292\n",
      "8789    0.224185\n",
      "Name: Protein_(g), dtype: float64\n"
     ]
    }
   ],
   "source": [
    "print(food_info[\"Protein_(g)\"].min())\n",
    "print(food_info[\"Protein_(g)\"].max())\n",
    "max_protein = food_info[\"Protein_(g)\"].max()\n",
    "normalized_protein = food_info[\"Protein_(g)\"] / food_info[\"Protein_(g)\"].max()\n",
    "print(\"Normized Protein: {0}\".format(normalized_protein))\n",
    "normalized_fat = food_info[\"Lipid_Tot_(g)\"] / food_info[\"Lipid_Tot_(g)\"].max()"
   ]
  },
  {
   "cell_type": "markdown",
   "metadata": {},
   "source": [
    "# 6. Creating a new column"
   ]
  },
  {
   "cell_type": "code",
   "execution_count": 11,
   "metadata": {
    "collapsed": true
   },
   "outputs": [],
   "source": [
    "food_info[\"Normalized_Protein\"] = normalized_protein\n",
    "food_info[\"Normalized_Fat\"] = normalized_fat"
   ]
  },
  {
   "cell_type": "markdown",
   "metadata": {},
   "source": [
    "# 7. Creating a normalized nutrional index"
   ]
  },
  {
   "cell_type": "code",
   "execution_count": 14,
   "metadata": {
    "collapsed": false
   },
   "outputs": [
    {
     "data": {
      "text/plain": [
       "5009    1.996025\n",
       "4858    1.974575\n",
       "6204    1.937656\n",
       "216     1.901586\n",
       "124     1.865642\n",
       "Name: Norm_Nutr_Index, dtype: float64"
      ]
     },
     "execution_count": 14,
     "metadata": {},
     "output_type": "execute_result"
    }
   ],
   "source": [
    "food_info[\"Normalized_Protein\"] = food_info[\"Protein_(g)\"] / food_info[\"Protein_(g)\"].max()\n",
    "food_info[\"Normalized_Fat\"] = food_info[\"Lipid_Tot_(g)\"] / food_info[\"Lipid_Tot_(g)\"].max()\n",
    "food_info[\"Norm_Nutr_Index\"] = 2*food_info[\"Normalized_Protein\"] + (-0.75*food_info[\"Normalized_Fat\"])\n",
    "food_info[\"Norm_Nutr_Index\"].head()"
   ]
  },
  {
   "cell_type": "markdown",
   "metadata": {},
   "source": [
    "# 8. Sorting a DataFrame by a column"
   ]
  },
  {
   "cell_type": "code",
   "execution_count": 15,
   "metadata": {
    "collapsed": false
   },
   "outputs": [
    {
     "data": {
      "text/plain": [
       "5009    1.996025\n",
       "4858    1.974575\n",
       "6204    1.937656\n",
       "216     1.901586\n",
       "124     1.865642\n",
       "Name: Norm_Nutr_Index, dtype: float64"
      ]
     },
     "execution_count": 15,
     "metadata": {},
     "output_type": "execute_result"
    }
   ],
   "source": [
    "food_info.sort_values(\"Norm_Nutr_Index\", inplace=True, ascending=False)\n",
    "food_info[\"Norm_Nutr_Index\"].head()"
   ]
  }
 ],
 "metadata": {
  "anaconda-cloud": {},
  "kernelspec": {
   "display_name": "Python [default]",
   "language": "python",
   "name": "python3"
  },
  "language_info": {
   "codemirror_mode": {
    "name": "ipython",
    "version": 3
   },
   "file_extension": ".py",
   "mimetype": "text/x-python",
   "name": "python",
   "nbconvert_exporter": "python",
   "pygments_lexer": "ipython3",
   "version": "3.5.2"
  }
 },
 "nbformat": 4,
 "nbformat_minor": 1
}
